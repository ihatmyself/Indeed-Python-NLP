{
 "cells": [
  {
   "cell_type": "code",
   "execution_count": 33,
   "metadata": {},
   "outputs": [],
   "source": [
    "import pandas as pd\n",
    "\n",
    "df1 = pd.read_csv(\"data_scientist@austin#2023-07-20.csv\")\n",
    "df2 = pd.read_csv(\"data_scientist@chicago#2023-07-20.csv\")\n",
    "df3 = pd.read_csv(\"data_scientist@dallas#2023-07-20.csv\")\n",
    "df4 = pd.read_csv(\"data_scientist@houston#2023-07-20.csv\")\n",
    "df5 = pd.read_csv(\"data_scientist@los_angeles#2023-07-20.csv\")\n",
    "df6 = pd.read_csv(\"data_scientist@new_york#2023-07-20.csv\")\n",
    "df7 = pd.read_csv(\"data_scientist@philadelphia#2023-07-20.csv\")\n",
    "df8 = pd.read_csv(\"data_scientist@phoenix#2023-07-20.csv\")\n",
    "df9 = pd.read_csv(\"data_scientist@san_antonio#2023-07-20.csv\")\n",
    "df10 = pd.read_csv(\"data_scientist@san_diego#2023-07-20.csv\")\n",
    "\n",
    "df = pd.concat([df1,df2,df3,df4,df5,df6,df7,df8,df9,df10], ignore_index=True)"
   ]
  },
  {
   "cell_type": "markdown",
   "metadata": {},
   "source": [
    "Chose data scientists because the variance is larger. "
   ]
  },
  {
   "cell_type": "code",
   "execution_count": 25,
   "metadata": {},
   "outputs": [
    {
     "name": "stderr",
     "output_type": "stream",
     "text": [
      "[nltk_data] Error loading stopwords: <urlopen error [SSL:\n",
      "[nltk_data]     CERTIFICATE_VERIFY_FAILED] certificate verify failed:\n",
      "[nltk_data]     unable to get local issuer certificate (_ssl.c:1006)>\n"
     ]
    }
   ],
   "source": [
    "import numpy as np\n",
    "import nltk\n",
    "nltk.download('stopwords')\n",
    "import re\n",
    "import os\n",
    "\n",
    "from sklearn import decomposition\n",
    "from sklearn.feature_extraction.text import TfidfVectorizer\n",
    "import matplotlib.pyplot as plt\n",
    "\n",
    "stopwords = nltk.corpus.stopwords.words('english')\n"
   ]
  },
  {
   "cell_type": "code",
   "execution_count": 59,
   "metadata": {},
   "outputs": [
    {
     "name": "stdout",
     "output_type": "stream",
     "text": [
      "<class 'pandas.core.frame.DataFrame'>\n",
      "RangeIndex: 1094 entries, 0 to 1093\n",
      "Data columns (total 7 columns):\n",
      " #   Column           Non-Null Count  Dtype \n",
      "---  ------           --------------  ----- \n",
      " 0   job_title        1094 non-null   object\n",
      " 1   company          1091 non-null   object\n",
      " 2   job_location     1094 non-null   object\n",
      " 3   post_date        1026 non-null   object\n",
      " 4   salary           813 non-null    object\n",
      " 5   job_url          1094 non-null   object\n",
      " 6   job_description  1056 non-null   object\n",
      "dtypes: object(7)\n",
      "memory usage: 60.0+ KB\n"
     ]
    }
   ],
   "source": [
    "df.info()"
   ]
  },
  {
   "cell_type": "code",
   "execution_count": 46,
   "metadata": {},
   "outputs": [
    {
     "name": "stdout",
     "output_type": "stream",
     "text": [
      "[nan, '$7,349 - $10,000 a month', '$109,000 - $166,000 a year', '$151,736 - $178,900 a year', 'Full-time', '$96,900 - $234,300 a year', '$99,900 - $168,400 a year', '$136,000 - $218,900 a year', '$249,600 - $299,500 a year', '$45 - $50 an hour', '$80,000 - $93,000 a year', '$135,100 - $196,100 a year', '$40 - $45 an hour', '$120,000 - $205,000 a year', 'Full-time +1', '$120,000 - $160,000 a year', '$40,000 a year', '$136,750 - $232,630 a year', '$80,985 - $122,489 a year', '$24.04 an hour', '$84,500 - $204,600 a year', '$152,000 - $339,250 a year', '$93,000 - $175,000 a year', '$77,800 - $116,700 a year', '$260,500 - $313,000 a year', '$65,000 - $70,000 a year', '$104,000 - $160,000 a year', '$75,900 - $141,456 a year', '$93,200 - $139,800 a year', '$131,000 - $203,000 a year', '$61,000 - $90,000 a year', '$127,000 - $140,025 a year', '$101,000 - $131,000 a year', 'Contract', '$92,800 - $123,800 a year', '$66,000 - $87,500 a year', '$83,400 - $104,200 a year', '$70,000 - $95,000 a year', '$30 - $40 an hour', '$140,000 - $180,000 a year', 'From $136,000 a year', '$119,450 - $165,000 a year', '$110,000 - $130,000 a year', '$77,000 - $110,000 a year', '$100,000 - $150,000 a year', '$121,560 - $182,340 a year', '$89,076 - $119,400 a year', 'Monday to Friday', '$160 an hour', '$131,240 - $169,840 a year', '$115,000 - $155,000 a year', '$128,250 - $195,000 a year', '$100,000 - $120,000 a year', '$130,000 - $140,000 a year', '$51,962 - $93,918 a year', '$90,000 - $145,000 a year', '$36,000 - $56,000 a year', '$117,800 - $148,200 a year', '$40,000 - $75,000 a year', '$127,100 - $254,300 a year', '$139,900 - $233,200 a year', '$109,250 - $145,000 a year', '$100,000 - $135,000 a year', '$108,700 - $136,300 a year', '$90,700 - $181,300 a year', '$145,000 - $210,000 a year', '$107,000 - $179,000 a year', '$89,224 - $148,706 a year', '$100,000 - $130,000 a year', '$71,300 - $142,700 a year', '$140,000 - $160,000 a year', '$130,000 - $218,000 a year', '$92,395 - $236,600 a year', '$50 - $75 an hour', '$53,000 - $73,000 a year', '$95,000 - $110,000 a year', '$75,000 - $95,000 a year', '$115,000 - $230,000 a year', '$80,000 a year', '$98,500 - $100,000 a year', '$150,000 - $250,000 a year', '$99,764 - $153,256 a year', '$95 - $110 an hour', '$99,174 - $122,491 a year', '$63,104 - $117,497 a year', '$124,500 - $286,300 a year', '$90,000 - $150,000 a year', '$53.71 an hour', '$55 - $58 an hour', '$60 - $65 an hour', '$150,000 - $170,000 a year', '$200,000 - $300,000 a year', '$64,500 - $93,600 a year', '$107,400 - $196,900 a year', '$91,408 - $115,377 a year', '$90,000 - $120,000 a year', '$67,400 - $133,400 a year', '$110,000 - $150,000 a year', '$165,000 - $232,000 a year', '$155,000 - $200,640 a year', '$140,000 - $225,000 a year', '$136,038 - $182,490 a year', '$109,200 - $240,900 a year', '$155,000 a year', '$82,100 - $164,100 a year', '$101,164 - $161,862 a year', '$143,000 - $195,000 a year', '$100,000 - $125,000 a year', '$123,626 - $220,611 a year', '$44,740 - $81,805 a year', '$90,017 - $209,000 a year', '$96,739 - $113,000 a year', '$174,000 - $251,000 a year', '$163,000 a year', '$8,250 - $11,903 a month', '$29.00 - $44.95 an hour', '$110,000 - $120,000 a year', '$135,000 - $150,000 a year', '$158,755 - $296,822 a year', '$125,000 - $170,000 a year', '$125,000 - $180,000 a year', '$191,200 - $247,390 a year', '$120,000 - $137,500 a year', '$196,000 - $285,000 a year', '$71,000 - $105,400 a year', '$176,842 a year', '$70 - $80 an hour', '$224,000 - $331,000 a year', '$85,360 - $128,040 a year', '$100,000 - $500,000 a year', 'From $50 an hour', '$37,253 - $108,911 a year', '$130,000 a year', '$145,000 - $175,000 a year', '$190,000 - $249,000 a year', '$87,612 - $124,846 a year', '$151,759 - $171,924 a year', '$149,240 - $200,200 a year', '$116,002 - $168,000 a year', 'Part-time', '$103,436 - $144,811 a year', '$150,000 - $200,000 a year', '$108,000 - $162,000 a year', '$110,000 - $135,000 a year', '$113,220 - $166,500 a year', '$150,000 a year', '$199,500 - $340,100 a year', '$100,000 - $180,000 a year', '$100,500 - $141,500 a year', '$170,000 - $220,000 a year', '$125,000 - $250,000 a year', '$140,000 - $250,000 a year', 'From $45 an hour', '$160,000 - $230,000 a year', '$111,996 - $150,912 a year', '$81,786 - $113,422 a year', '$200,000 - $220,000 a year', '$120,000 - $180,000 a year', '$66,220 - $108,180 a year', '$70,000 - $140,000 a year', '$85,000 - $120,000 a year', '$178,200 a year', '$122,400 - $223,000 a year', '$77,540 - $110,700 a year', '$171,000 - $256,500 a year', '$89,600 - $131,300 a year', '$110,000 - $145,000 a year', '$144,000 - $312,444 a year', '$70,000 - $90,000 a year', '$148,000 - $200,000 a year', '$160,000 - $255,000 a year', '$130,000 - $145,000 a year', '$75,000 - $90,000 a year', '$77,019 - $92,019 a year', '$160,000 - $225,000 a year', '$150,000 - $165,000 a year', '$70,000 - $91,000 a year', '$125,900 - $250,300 a year', '$180,000 - $205,000 a year', '$185,640 - $278,460 a year', '$180,000 - $200,000 a year', '$158,400 - $207,900 a year', '$117,000 - $152,000 a year', '$160,000 - $200,000 a year', '$148,750 - $175,000 a year', '$97,013 a year', '$114,000 - $140,000 a year', '$125,000 - $185,000 a year', '$115,000 - $135,000 a year', '$178,500 - $210,000 a year', '$55 - $60 an hour', '$129,625 - $183,000 a year', '$167,111 - $312,444 a year', '$114,000 - $170,000 a year', 'From $60 an hour', '$126,000 - $140,000 a year', '$138,800 - $180,400 a year', '$213,300 - $277,300 a year', '$160,000 - $190,000 a year', 'No weekends', '$26,988 - $72,873 a year', '$90,000 - $180,000 a year', '$146,248 - $278,567 a year', '$103,500 - $135,450 a year', '$117,500 - $150,400 a year', '$185,000 - $230,000 a year', '$133,000 - $195,000 a year', '$265,000 - $454,000 a year', '$105,000 - $160,000 a year', '$120,300 - $287,100 a year', '$80,000 - $120,000 a year', '$160,000 - $210,000 a year', '$170,000 - $210,000 a year', '$187,286 - $225,793 a year', '$123,740 - $296,980 a year', '$130,000 - $175,000 a year', '$142,500 - $210,000 a year', '$58,500 - $79,300 a year', '$73,771 - $85,000 a year', '$157,500 - $237,500 a year', '$220,000 - $300,000 a year', '$83,000 - $225,000 a year', '$132,500 - $197,500 a year', '$100,000 - $200,000 a year', '$90,899 - $145,439 a year', '$140,000 - $200,000 a year', '$90,000 - $110,000 a year', '$109,376 a year', '$164,000 - $192,000 a year', '$63,935 - $79,653 a year', '$100,100 - $143,000 a year', '$90,000 - $95,000 a year', '$85,000 - $115,000 a year', '$80,000 - $250,000 a year', '$150,000 - $185,000 a year', 'From $100 an hour', '$65,000 - $145,000 a year', '$160,000 - $250,000 a year', '$67,531 - $130,000 a year', 'Temporary', '$147,250 - $260,000 a year', '$66,560 - $109,720 a year', '$197,000 - $270,000 a year', '$128,390 - $192,585 a year', '$125,000 - $140,000 a year', '$200,000 - $265,000 a year', '$125,000 - $150,000 a year', '$73,771 - $120,000 a year', '$120,000 - $125,000 a year', '$200,000 - $250,000 a year', '$86,000 - $100,000 a year', '$187,500 - $312,500 a year', '$183,600 - $233,400 a year', '$123,000 - $145,000 a year', '$425,000 - $466,000 a year', '$105,309 - $136,000 a year', '$116,002 - $137,000 a year', '$85,600 - $146,100 a year', '$126,000 - $178,000 a year', '$100 an hour', '$166,500 - $273,000 a year', '$82,000 - $105,000 a year', '$81,702 - $113,333 a year', '$170,000 - $180,000 a year', '$76,252 - $178,716 a year', '$106,494 - $249,595 a year', '$85,000 a year', '$95,000 - $115,000 a year', '$78,000 - $125,000 a year', '$74,797 - $90,149 a year', '$110,000 - $160,000 a year', '$53,834 - $87,020 a year', '$102,000 - $163,000 a year', '$50,000 - $65,000 a year', '$101,000 - $172,000 a year', '$55,000 - $65,000 a year', '$115,000 a year', '$54,686 - $62,889 a year', '$182,000 - $274,000 a year', '$131,000 - $166,250 a year', '$90,000 - $100,000 a year', 'From $70,000 a year', '$115,400 - $196,000 a year', '$43,700 - $100,000 a year', '$116,393 - $183,500 a year', '$97,000 - $180,000 a year', '$107,300 - $259,600 a year', '$77,575 - $120,000 a year', '$77,900 - $105,000 a year', 'From $90,000 a year', '$159,850 - $265,650 a year', '$77,745 - $183,500 a year', '$73,100 - $166,000 a year', '$105,000 - $120,000 a year', 'Overtime', '$5,684 a month', 'Up to $36,880 a year', '$70,000 - $75,000 a year', '$150,000 - $190,000 a year', '$150,000 - $180,000 a year', '$134,600 - $269,300 a year', '$137,000 a year', '$130,000 - $180,000 a year', '$102,000 - $160,000 a year', '$133,580 - $170,000 a year', '$75,000 - $100,000 a year', '$160,000 - $178,789 a year', '$46,000 - $76,107 a year', '$58,759 - $109,124 a year', '$111,000 - $192,050 a year', '$175,000 - $200,000 a year', '$112,070 - $191,330 a year', '$150,000 - $225,000 a year', '$145,000 - $180,000 a year', '$167,000 a year', 'From $56.34 an hour', '$155,370 - $289,320 a year', '$70,000 - $130,000 a year', '$120,000 - $135,000 a year', '$59.56 - $59.57 an hour', '$102,017 - $166,695 a year', '$90,000 - $130,000 a year', '$140,000 - $175,000 a year', '$117,545 - $155,744 a year', '$160,000 - $220,000 a year', '$85,000 - $130,000 a year', '$80,000 - $135,000 a year', '$120,000 - $185,000 a year', '$50 - $60 an hour']\n",
      "<class 'pandas.core.frame.DataFrame'>\n",
      "Index: 813 entries, 2 to 1093\n",
      "Data columns (total 7 columns):\n",
      " #   Column           Non-Null Count  Dtype \n",
      "---  ------           --------------  ----- \n",
      " 0   job_title        813 non-null    object\n",
      " 1   company          811 non-null    object\n",
      " 2   job_location     813 non-null    object\n",
      " 3   post_date        770 non-null    object\n",
      " 4   salary           813 non-null    object\n",
      " 5   job_url          813 non-null    object\n",
      " 6   job_description  788 non-null    object\n",
      "dtypes: object(7)\n",
      "memory usage: 50.8+ KB\n"
     ]
    }
   ],
   "source": [
    "salary_df = df[df['salary'].notnull()]\n",
    "\n",
    "salary_list = df['salary'].unique().tolist()\n",
    "\n",
    "print(salary_list)\n",
    "\n",
    "salary_df.info()"
   ]
  },
  {
   "cell_type": "code",
   "execution_count": 49,
   "metadata": {},
   "outputs": [
    {
     "name": "stderr",
     "output_type": "stream",
     "text": [
      "/var/folders/hx/4w9b78g15zj3qxgwfj_1p8y00000gn/T/ipykernel_84645/2365099728.py:14: SettingWithCopyWarning: \n",
      "A value is trying to be set on a copy of a slice from a DataFrame.\n",
      "Try using .loc[row_indexer,col_indexer] = value instead\n",
      "\n",
      "See the caveats in the documentation: https://pandas.pydata.org/pandas-docs/stable/user_guide/indexing.html#returning-a-view-versus-a-copy\n",
      "  salary_df['Rate_by'] = salary_df['salary'].apply(salary_base)\n"
     ]
    }
   ],
   "source": [
    "def salary_base(x):\n",
    "    y=\"\"\n",
    "    if \"year\" in str(x):\n",
    "        y = \"Yearly\"\n",
    "    if \"hour\" in str(x):\n",
    "        y = \"Hourly\"\n",
    "    if \"day\" in str(x):\n",
    "        y = \"Daily\"\n",
    "    elif \"month\" in str(x):\n",
    "        y = \"Monthly\"\n",
    "    \n",
    "    return y\n",
    "\n",
    "salary_df['Rate_by'] = salary_df['salary'].apply(salary_base)"
   ]
  },
  {
   "cell_type": "code",
   "execution_count": 62,
   "metadata": {},
   "outputs": [
    {
     "name": "stdout",
     "output_type": "stream",
     "text": [
      "<class 'pandas.core.frame.DataFrame'>\n",
      "Index: 460 entries, 2 to 1093\n",
      "Data columns (total 8 columns):\n",
      " #   Column           Non-Null Count  Dtype \n",
      "---  ------           --------------  ----- \n",
      " 0   job_title        460 non-null    object\n",
      " 1   company          458 non-null    object\n",
      " 2   job_location     460 non-null    object\n",
      " 3   post_date        429 non-null    object\n",
      " 4   salary           460 non-null    object\n",
      " 5   job_url          460 non-null    object\n",
      " 6   job_description  444 non-null    object\n",
      " 7   Rate_by          460 non-null    object\n",
      "dtypes: object(8)\n",
      "memory usage: 32.3+ KB\n"
     ]
    },
    {
     "data": {
      "text/plain": [
       "0                            NaN\n",
       "1                            NaN\n",
       "2       $7,349 - $10,000 a month\n",
       "3     $109,000 - $166,000 a year\n",
       "4     $151,736 - $178,900 a year\n",
       "                 ...            \n",
       "95                           NaN\n",
       "96                     Full-time\n",
       "97      $66,000 - $87,500 a year\n",
       "98                           NaN\n",
       "99                           NaN\n",
       "Name: salary, Length: 100, dtype: object"
      ]
     },
     "execution_count": 62,
     "metadata": {},
     "output_type": "execute_result"
    }
   ],
   "source": [
    "salary_df = salary_df[salary_df['Rate_by']!=\"\"]\n",
    "salary_df.info()\n",
    "\n",
    "indexNames = salary_df[salary_df['Rate_by']==\"\"].index\n",
    " \n",
    "salary_df.drop(indexNames , inplace=True)\n",
    "salary_df.reset_index(drop=True)\n",
    "\n",
    "salary_df.groupby('Rate_by').salary.count()\n"
   ]
  }
 ],
 "metadata": {
  "kernelspec": {
   "display_name": "Python 3",
   "language": "python",
   "name": "python3"
  },
  "language_info": {
   "codemirror_mode": {
    "name": "ipython",
    "version": 3
   },
   "file_extension": ".py",
   "mimetype": "text/x-python",
   "name": "python",
   "nbconvert_exporter": "python",
   "pygments_lexer": "ipython3",
   "version": "3.11.5"
  }
 },
 "nbformat": 4,
 "nbformat_minor": 2
}
